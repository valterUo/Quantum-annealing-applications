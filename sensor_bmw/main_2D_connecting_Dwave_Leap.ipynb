{
 "cells": [
  {
   "cell_type": "markdown",
   "metadata": {},
   "source": [
    "# Sensor Position Optimization"
   ]
  },
  {
   "cell_type": "markdown",
   "metadata": {},
   "source": [
    "### BMW Quantum Computing Challenge"
   ]
  },
  {
   "cell_type": "markdown",
   "metadata": {},
   "source": [
    "#### Valter Uotila, Unified Database Management Systems, Department of Computer Science at University of Helsinki\n",
    "#### Sardana Ivanova, Discovery Research Group, Department of Computer Science at University of Helsinki"
   ]
  },
  {
   "cell_type": "markdown",
   "metadata": {},
   "source": [
    "## Remarks about the implementation"
   ]
  },
  {
   "cell_type": "markdown",
   "metadata": {},
   "source": [
    "We have been learning, testing and developing some basic quantum algorithms using D-waves own API but we are not very experienced with details related to these quantum computers.\n",
    "\n",
    "Unfortunately, it seems that Amazon Bracket does not yet support D-waves hybrid solvers. We might be wrong but we could not figure out how to access, for example, LeapHybridSampler using Bracket. It seems that BracketDWaveSampler and BracketSampler are using the standard DWaveSampler (https://docs.ocean.dwavesys.com/projects/system/en/stable/reference/samplers.html). Because our solution is based on LeapHybridSampler, it is not possible to run it in Bracket. Maybe in the future Amazon will implement something like BracketDWaveHybridSampler which offers the functionality of LeapHybridSampler.\n",
    "\n",
    "Anyway, Bracket allows some hybrid solving properties using PennyLane but we are not familiar with them yet. We are also positively impressed how Bracket collects various quantum computing resources together."
   ]
  },
  {
   "cell_type": "markdown",
   "metadata": {},
   "source": [
    "## Initializing parameters"
   ]
  },
  {
   "cell_type": "markdown",
   "metadata": {},
   "source": [
    "### Importing D-wave packages"
   ]
  },
  {
   "cell_type": "markdown",
   "metadata": {},
   "source": [
    "Note that in order to run the codes here, you need to be able to successfully access your D-wave quantum cloud computing resources. You can see more info at https://cloud.dwavesys.com/. We are used to develop with D-waves developer's plan which includes 1 min of quantum computing time per month."
   ]
  },
  {
   "cell_type": "code",
   "execution_count": 1,
   "metadata": {},
   "outputs": [],
   "source": [
    "import dimod\n",
    "\n",
    "from dwave.system import LeapHybridSampler\n",
    "\n",
    "import json\n",
    "import itertools\n",
    "import os\n",
    "import math\n",
    "\n",
    "from ipynb.fs.defs.sensor_covers_2D import sensor_covers\n",
    "\n",
    "notebook_path = os.path.abspath(\"main_2D_connecting_Dwave_Leap.ipynb\")"
   ]
  },
  {
   "cell_type": "markdown",
   "metadata": {},
   "source": [
    "### Initializing sensors"
   ]
  },
  {
   "cell_type": "code",
   "execution_count": 2,
   "metadata": {},
   "outputs": [],
   "source": [
    "abs_sensors_file_path = os.path.join(os.path.dirname(notebook_path), \"2d_example_data/sensors.json\")\n",
    "\n",
    "f = open(abs_sensors_file_path)\n",
    "\n",
    "sensor_root = json.load(f)\n",
    "sensors = sensor_root[\"sensors\"]\n",
    "\n",
    "# print(sensors)"
   ]
  },
  {
   "cell_type": "markdown",
   "metadata": {},
   "source": [
    "### Initializing car"
   ]
  },
  {
   "cell_type": "code",
   "execution_count": 3,
   "metadata": {},
   "outputs": [],
   "source": [
    "abs_car_file_path = os.path.join(os.path.dirname(notebook_path), \"2d_example_data/2D_allowed_sensors_positions.json\")\n",
    "\n",
    "f = open(abs_car_file_path)\n",
    "\n",
    "car = json.load(f)\n",
    "\n",
    "car_grid = [(0,3), (1,3), (2,3), (0,2), (1,2), (2,2), (0,1), (1,1), (2,1), (0,0), (1,0), (2,0)]\n",
    "\n",
    "# print(car)"
   ]
  },
  {
   "cell_type": "markdown",
   "metadata": {},
   "source": [
    "### Initializing environment"
   ]
  },
  {
   "cell_type": "code",
   "execution_count": 4,
   "metadata": {},
   "outputs": [],
   "source": [
    "environment = {\"v1\": (-8,8), \"v2\": (8,8), \"v3\": (8, -8), \"v4\": (-8,-8)}\n",
    "\n",
    "def critical_value(x, y):\n",
    "    return 1"
   ]
  },
  {
   "cell_type": "markdown",
   "metadata": {},
   "source": [
    "## Constructing quadratic binary model"
   ]
  },
  {
   "cell_type": "code",
   "execution_count": 5,
   "metadata": {},
   "outputs": [],
   "source": [
    "bqm = dimod.BinaryQuadraticModel({}, {}, 0.0, dimod.BINARY)\n",
    "\n",
    "# Initializing variables\n",
    "# Variables are triples (x, y, i) where x and y are coordinate points in the space\n",
    "# and i is the index of the sensor. For each sensor exactly two variables are two\n",
    "# and another one of them is on the car.\n",
    "\n",
    "def create_variables(start_x, end_x, start_y, end_y, sensors):\n",
    "    variables = []\n",
    "    for x in range(start_x, end_x + 1):\n",
    "        for y in range(start_y, end_y + 1):\n",
    "            if (x,y) not in car_grid:\n",
    "                variables.append((x, y))\n",
    "    return variables\n",
    "\n",
    "env = create_variables(environment[\"v1\"][0], environment[\"v2\"][0], environment[\"v3\"][1], environment[\"v2\"][1], sensors)\n",
    "\n",
    "# print(len(env))\n",
    "\n",
    "# Next we collect the variables which are assigned to the car surface\n",
    "\n",
    "car_surface = []\n",
    "\n",
    "for pos in car[\"positions\"]:\n",
    "    if pos[\"x1\"] == pos[\"x2\"]:\n",
    "        x = pos[\"x1\"]\n",
    "        for y in range(pos[\"y1\"], pos[\"y2\"] + 1):\n",
    "            car_surface.append((x, y))\n",
    "    elif pos[\"y1\"] == pos[\"y2\"]:\n",
    "        y = pos[\"y1\"]\n",
    "        for x in range(pos[\"x1\"], pos[\"x2\"] + 1):\n",
    "            car_surface.append((x, y))\n",
    "    else:\n",
    "        raise ValueError('The allowed position on the car surface is not a line.')\n",
    "        \n",
    "# print(car_surface)"
   ]
  },
  {
   "cell_type": "code",
   "execution_count": 6,
   "metadata": {},
   "outputs": [],
   "source": [
    "def append_linear_safe(x, value):\n",
    "    try:\n",
    "        bqm.set_linear(x, bqm.get_linear(x) + value)\n",
    "    except:\n",
    "        bqm.set_linear(x, value)\n",
    "\n",
    "def append_quadratic_safe(x, value):\n",
    "    try:\n",
    "        bqm.quadratic[x] = bqm.quadratic[x] + value\n",
    "    except:\n",
    "        bqm.quadratic[x] = value\n",
    "        \n",
    "def distance(x, y):\n",
    "    return math.floor(math.sqrt(pow((x[0]- y[0]), 2) + pow((x[0]- y[0]),2)))"
   ]
  },
  {
   "cell_type": "markdown",
   "metadata": {},
   "source": [
    "### Constraint 1: variables go in pairs"
   ]
  },
  {
   "cell_type": "code",
   "execution_count": 7,
   "metadata": {},
   "outputs": [],
   "source": [
    "# Encoding constraint H1\n",
    "\n",
    "c = 150\n",
    "\n",
    "for sensor in sensors:\n",
    "    for y in env:\n",
    "        var_y = (y[0], y[1], sensor[\"id\"])\n",
    "        append_linear_safe(var_y, c)\n",
    "        for x in car_surface:\n",
    "            var_x = (x[0], x[1], sensor[\"id\"])\n",
    "            append_linear_safe(var_x, c)\n",
    "            append_quadratic_safe((var_x, var_y), -2*c)\n",
    "            \n",
    "        for tupl in itertools.combinations(car_surface, 2):\n",
    "            var_1 = (tupl[0][0], tupl[0][1], sensor[\"id\"])\n",
    "            var_2 = (tupl[1][0], tupl[1][1], sensor[\"id\"])\n",
    "            append_quadratic_safe((var_1, var_2), 2*c)\n",
    "            \n",
    "            \n",
    "# Encoding constraint H2\n",
    "\n",
    "for sensor in sensors:\n",
    "    for x in car_surface:\n",
    "        var_x = (x[0], x[1], sensor[\"id\"])\n",
    "        append_linear_safe(var_x, c)\n",
    "        for y in env:\n",
    "            var_y = (y[0], y[1], sensor[\"id\"])\n",
    "            append_linear_safe(var_y, c)\n",
    "            append_quadratic_safe((var_x, var_y), -2*c)\n",
    "            \n",
    "        for tupl in itertools.combinations(env, 2):\n",
    "            var_1 = (tupl[0][0], tupl[0][1], sensor[\"id\"])\n",
    "            var_2 = (tupl[1][0], tupl[1][1], sensor[\"id\"])\n",
    "            append_quadratic_safe((var_1, var_2), 2*c)\n",
    "            \n",
    "#for elem in bqm.linear:\n",
    "#        print(elem, bqm.linear[elem])\n",
    "\n",
    "#for elem in bqm.quadratic:\n",
    "#    print(elem, bqm.quadratic[elem])\n",
    "            "
   ]
  },
  {
   "cell_type": "markdown",
   "metadata": {},
   "source": [
    "### Constraint 2: range of sensor views"
   ]
  },
  {
   "cell_type": "code",
   "execution_count": 8,
   "metadata": {},
   "outputs": [],
   "source": [
    "# Encoding constraint H3\n",
    "\n",
    "h = 1\n",
    "\n",
    "for sensor in sensors:\n",
    "    for x in car_surface:\n",
    "        for y in env:\n",
    "            constant = pow(distance(x, y) - sensor[\"view\"][\"range\"] + 1, 2)\n",
    "            #if constant != 1:\n",
    "            #    constant = pow(distance(x, y) + 1 - sensor[\"view\"][\"range\"] + 1, 2)\n",
    "            var_x = (x[0], x[1], sensor[\"id\"])\n",
    "            append_linear_safe(var_x, h*constant)\n",
    "            \n",
    "            var_y = (y[0], y[1], sensor[\"id\"])\n",
    "            append_linear_safe(var_y, h)\n",
    "            \n",
    "            append_quadratic_safe((var_x, var_y), -2*constant*h)\n",
    "    "
   ]
  },
  {
   "cell_type": "markdown",
   "metadata": {},
   "source": [
    "### Constraint 3: maximizing sensor view coverage"
   ]
  },
  {
   "cell_type": "markdown",
   "metadata": {},
   "source": [
    "Other constaints try to minimize the number of sensors. Thus the trivial solution to these is not to include any sensors. On the other hand, this part of the model tries to maximize the coverage. This creates a sort of tension between different parts of this optimization problem which eventually unstabilizes the energy and creates some non-trivial solution to the problem."
   ]
  },
  {
   "cell_type": "code",
   "execution_count": 9,
   "metadata": {},
   "outputs": [],
   "source": [
    "# Encoding constraint H4\n",
    "\n",
    "total_points = len(env)\n",
    "\n",
    "d = 1\n",
    "\n",
    "for sensor in sensors:\n",
    "    for x in car_surface:\n",
    "        for y in env:\n",
    "            covered_area = pow(sensor[\"view\"][\"range\"], 2)*math.tan(math.pi * sensor[\"view\"][\"angle\"] / 360)\n",
    "            var_x = (x[0], x[1], sensor[\"id\"])\n",
    "            var_y = (y[0], y[1], sensor[\"id\"])\n",
    "            append_quadratic_safe((var_x, var_y), d*(pow(covered_area, 2) - 2*covered_area*total_points))\n",
    "            "
   ]
  },
  {
   "cell_type": "markdown",
   "metadata": {},
   "source": [
    "### Constraint 4: optimizing overlap of sensor views"
   ]
  },
  {
   "cell_type": "code",
   "execution_count": 10,
   "metadata": {},
   "outputs": [],
   "source": [
    "# Encoding constraint H5\n",
    "\n",
    "for p in env:\n",
    "    cr = critical_value(p[0], p[1])\n",
    "    for sensor in sensors:\n",
    "        for x in car_surface:\n",
    "            for y in env:\n",
    "                covers = sensor_covers(x, y, p, sensor)\n",
    "                \n",
    "                var_x = (x[0], x[1], sensor[\"id\"])\n",
    "                var_y = (y[0], y[1], sensor[\"id\"])\n",
    "            \n",
    "                append_quadratic_safe((var_x, var_y), covers - 2*cr*covers)"
   ]
  },
  {
   "cell_type": "markdown",
   "metadata": {},
   "source": [
    "### Constraint 5: minimizing total price"
   ]
  },
  {
   "cell_type": "code",
   "execution_count": 11,
   "metadata": {},
   "outputs": [],
   "source": [
    "# Encoding constraint H6\n",
    "\n",
    "for sensor in sensors:\n",
    "    for x in car_surface:\n",
    "        for y in env:\n",
    "            var_x = (x[0], x[1], sensor[\"id\"])\n",
    "            var_y = (y[0], y[1], sensor[\"id\"])\n",
    "            \n",
    "            append_quadratic_safe((var_x, var_y), sensor[\"price\"])\n"
   ]
  },
  {
   "cell_type": "markdown",
   "metadata": {},
   "source": [
    "### Solve QUBO"
   ]
  },
  {
   "cell_type": "code",
   "execution_count": null,
   "metadata": {},
   "outputs": [],
   "source": []
  },
  {
   "cell_type": "code",
   "execution_count": 12,
   "metadata": {},
   "outputs": [
    {
     "name": "stdout",
     "output_type": "stream",
     "text": [
      "Possible sensor positions in the space (x-coordinate, y-coordinate, sensor id):\n"
     ]
    }
   ],
   "source": [
    "sampler = LeapHybridSampler()\n",
    "sampleset = sampler.sample(bqm, label='BMW Sensor Position')\n",
    "sample = sampleset.first.sample\n",
    "# energy = sampleset.first.energy\n",
    "print(\"Possible sensor positions in the space (x-coordinate, y-coordinate, sensor id):\")\n",
    "for varname, value in sample.items():\n",
    "    if value == 1:\n",
    "        print(varname, value)"
   ]
  },
  {
   "cell_type": "code",
   "execution_count": null,
   "metadata": {},
   "outputs": [],
   "source": []
  }
 ],
 "metadata": {
  "kernelspec": {
   "display_name": "Python 3",
   "language": "python",
   "name": "python3"
  },
  "language_info": {
   "codemirror_mode": {
    "name": "ipython",
    "version": 3
   },
   "file_extension": ".py",
   "mimetype": "text/x-python",
   "name": "python",
   "nbconvert_exporter": "python",
   "pygments_lexer": "ipython3",
   "version": "3.8.3"
  }
 },
 "nbformat": 4,
 "nbformat_minor": 4
}
