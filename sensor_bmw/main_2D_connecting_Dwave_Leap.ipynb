{
 "cells": [
  {
   "cell_type": "markdown",
   "metadata": {},
   "source": [
    "# Sensor Position Optimization"
   ]
  },
  {
   "cell_type": "markdown",
   "metadata": {},
   "source": [
    "### BMW Quantum Computing Challenge"
   ]
  },
  {
   "cell_type": "markdown",
   "metadata": {},
   "source": [
    "#### Valter Uotila, Unified Database Management Systems, Department of Computer Science at University of Helsinki\n",
    "#### Sardana Ivanova, Discovery Research Group, Department of Computer Science at University of Helsinki"
   ]
  },
  {
   "cell_type": "markdown",
   "metadata": {},
   "source": [
    "## Remarks about the implementation"
   ]
  },
  {
   "cell_type": "markdown",
   "metadata": {},
   "source": [
    "We have been learning, testing and developing some basic quantum algorithms using D-waves own API but we are not very experienced with details related to these quantum computers.\n",
    "\n",
    "Unfortunately, it seems that Amazon Bracket does not yet support D-waves hybrid solvers. We might be wrong but we could not figure out how to access, for example, LeapHybridSampler using Bracket. It seems that BracketDWaveSampler and BracketSampler are using the standard DWaveSampler (https://docs.ocean.dwavesys.com/projects/system/en/stable/reference/samplers.html). Because our solution is based on LeapHybridSampler, it is not possible to run it in Bracket. Maybe in the future Amazon will implement something like BracketDWaveHybridSampler which offers the functionality of LeapHybridSampler. Anyway, we are positively impressed how Bracket collects various quantum computing resources together."
   ]
  },
  {
   "cell_type": "markdown",
   "metadata": {},
   "source": [
    "## Initializing parameters"
   ]
  },
  {
   "cell_type": "markdown",
   "metadata": {},
   "source": [
    "### Importing D-wave packages"
   ]
  },
  {
   "cell_type": "markdown",
   "metadata": {},
   "source": [
    "Note that in order to run the codes here, you need to be able to successfully access your D-wave quantum cloud computing resources. You can see more info at https://cloud.dwavesys.com/. We are used to develop with D-waves developer's plan which includes 1 min of quantum computing time per month."
   ]
  },
  {
   "cell_type": "code",
   "execution_count": 1,
   "metadata": {},
   "outputs": [],
   "source": [
    "import dimod\n",
    "\n",
    "from dwave.system import LeapHybridSampler\n",
    "\n",
    "import json\n",
    "import itertools\n",
    "import os\n",
    "import math\n",
    "\n",
    "from ipynb.fs.defs.sensor_covers_2D import sensor_covers\n",
    "\n",
    "notebook_path = os.path.abspath(\"main_2D_connecting_Dwave_Leap.ipynb\")"
   ]
  },
  {
   "cell_type": "markdown",
   "metadata": {},
   "source": [
    "### Initializing sensors"
   ]
  },
  {
   "cell_type": "code",
   "execution_count": 2,
   "metadata": {},
   "outputs": [],
   "source": [
    "abs_sensors_file_path = os.path.join(os.path.dirname(notebook_path), \"2d_example_data/sensors2.json\")\n",
    "\n",
    "f = open(abs_sensors_file_path)\n",
    "\n",
    "sensor_root = json.load(f)\n",
    "sensors = sensor_root[\"sensors\"]\n",
    "\n",
    "# print(sensors)"
   ]
  },
  {
   "cell_type": "markdown",
   "metadata": {},
   "source": [
    "### Initializing car"
   ]
  },
  {
   "cell_type": "code",
   "execution_count": 3,
   "metadata": {},
   "outputs": [],
   "source": [
    "abs_car_file_path = os.path.join(os.path.dirname(notebook_path), \"2d_example_data/car.json\")\n",
    "\n",
    "f = open(abs_car_file_path)\n",
    "\n",
    "car = json.load(f)\n",
    "\n",
    "car_grid = [] #[(0,3), (1,3), (2,3), (0,2), (1,2), (2,2), (0,1), (1,1), (2,1), (0,0), (1,0), (2,0)]\n",
    "\n",
    "x_dim = [car[\"dimensions\"][\"v1\"][\"x\"], car[\"dimensions\"][\"v2\"][\"x\"], car[\"dimensions\"][\"v3\"][\"x\"], car[\"dimensions\"][\"v4\"][\"x\"]]\n",
    "y_dim = [car[\"dimensions\"][\"v1\"][\"y\"], car[\"dimensions\"][\"v2\"][\"y\"], car[\"dimensions\"][\"v3\"][\"y\"], car[\"dimensions\"][\"v4\"][\"y\"]]\n",
    "start_x = min(x_dim)\n",
    "end_x = max(x_dim)\n",
    "start_y = min(y_dim)\n",
    "end_y = max(y_dim)\n",
    "\n",
    "for x in range(start_x, end_x + 1):\n",
    "        for y in range(start_y, end_y + 1):\n",
    "            car_grid.append((x,y))\n",
    "\n",
    "# print(car_grid)"
   ]
  },
  {
   "cell_type": "markdown",
   "metadata": {},
   "source": [
    "### Initializing environment"
   ]
  },
  {
   "cell_type": "code",
   "execution_count": 4,
   "metadata": {},
   "outputs": [],
   "source": [
    "environment = {\"v1\": (-8,8), \"v2\": (8,8), \"v3\": (8, -8), \"v4\": (-8,-8)}\n",
    "\n",
    "def critical_value(x, y):\n",
    "    return 1"
   ]
  },
  {
   "cell_type": "markdown",
   "metadata": {},
   "source": [
    "## Constructing quadratic binary model"
   ]
  },
  {
   "cell_type": "code",
   "execution_count": 5,
   "metadata": {},
   "outputs": [],
   "source": [
    "vartype = dimod.BINARY\n",
    "main_bqm = dimod.BinaryQuadraticModel({}, {}, 0.0, vartype)\n",
    "\n",
    "# Initializing variables\n",
    "# Variables are triples (x, y, i) where x and y are coordinate points in the space\n",
    "# and i is the index of the sensor.\n",
    "\n",
    "def create_variables(start_x, end_x, start_y, end_y, sensors):\n",
    "    variables = []\n",
    "    for x in range(start_x, end_x + 1):\n",
    "        for y in range(start_y, end_y + 1):\n",
    "            if (x,y) not in car_grid:\n",
    "                variables.append((x, y))\n",
    "    return variables\n",
    "\n",
    "env = create_variables(environment[\"v1\"][0], environment[\"v2\"][0], environment[\"v3\"][1], environment[\"v2\"][1], sensors)\n",
    "\n",
    "# print(len(env))\n",
    "\n",
    "# Next we collect the variables which are assigned to the car surface\n",
    "\n",
    "car_surface = []\n",
    "\n",
    "for pos in car[\"positions\"]:\n",
    "    if pos[\"x1\"] == pos[\"x2\"]:\n",
    "        x = pos[\"x1\"]\n",
    "        for y in range(pos[\"y1\"], pos[\"y2\"] + 1):\n",
    "            car_surface.append((x, y))\n",
    "    elif pos[\"y1\"] == pos[\"y2\"]:\n",
    "        y = pos[\"y1\"]\n",
    "        for x in range(pos[\"x1\"], pos[\"x2\"] + 1):\n",
    "            car_surface.append((x, y))\n",
    "    else:\n",
    "        raise ValueError('The allowed position on the car surface is not a line.')\n",
    "        \n",
    "# print(car_surface)"
   ]
  },
  {
   "cell_type": "markdown",
   "metadata": {},
   "source": [
    "The following functions enable us to append or initialize coefficients for the variables in the BQM. The distance function implements the ordinary Euclidean distance."
   ]
  },
  {
   "cell_type": "code",
   "execution_count": 6,
   "metadata": {},
   "outputs": [],
   "source": [
    "def append_linear_safe(variable, value, linear_dict):\n",
    "    if variable in linear_dict.keys():\n",
    "        linear_dict[variable] = linear_dict[variable] + value\n",
    "    else:\n",
    "        linear_dict[variable] = value\n",
    "\n",
    "def append_quadratic_safe(variable, value, quadratic_dict):\n",
    "    if variable in quadratic_dict.keys():\n",
    "        quadratic_dict[variable] = quadratic_dict[variable] + value\n",
    "    else:\n",
    "        quadratic_dict[variable] = value\n",
    "        \n",
    "def distance(x, y):\n",
    "    return math.floor(math.sqrt(pow((x[0]- y[0]), 2) + pow((x[0]- y[0]), 2)))"
   ]
  },
  {
   "cell_type": "markdown",
   "metadata": {},
   "source": [
    "### Constraint 1: variables go in pairs"
   ]
  },
  {
   "cell_type": "markdown",
   "metadata": {},
   "source": [
    "Every binary quadratic function which is part of the model contains four parameters: linear terms, quadratic terms, offset (constant) and variable type. Variable type is always BINARY since we are using QUBO. If we would use Ising, we set variable type to be SPIN."
   ]
  },
  {
   "cell_type": "code",
   "execution_count": 7,
   "metadata": {},
   "outputs": [],
   "source": [
    "# Encoding constraint H1\n",
    "\n",
    "A1 = 345*2\n",
    "linear_h1 = {}\n",
    "quadratic_h1 = {}\n",
    "offset_h1 = 0.0\n",
    "\n",
    "for sensor in sensors:\n",
    "    for y in env:\n",
    "        \n",
    "        var_y = (y[0], y[1], sensor[\"id\"])\n",
    "        append_linear_safe(var_y, 1, linear_h1)\n",
    "        \n",
    "        for x in car_surface:\n",
    "            \n",
    "            var_x = (x[0], x[1], sensor[\"id\"])\n",
    "            \n",
    "            append_linear_safe(var_x, 1, linear_h1)\n",
    "            append_quadratic_safe((var_x, var_y), -2, quadratic_h1)\n",
    "            \n",
    "        for tupl in itertools.combinations(car_surface, 2):\n",
    "            \n",
    "            var_1 = (tupl[0][0], tupl[0][1], sensor[\"id\"])\n",
    "            var_2 = (tupl[1][0], tupl[1][1], sensor[\"id\"])\n",
    "            \n",
    "            append_quadratic_safe((var_1, var_2), 2, quadratic_h1)\n",
    "            \n",
    "bqm_h1 = dimod.BinaryQuadraticModel(linear_h1, quadratic_h1, offset_h1, vartype)\n",
    "bqm_h1.scale(A1)\n",
    "main_bqm.update(bqm_h1)\n",
    "\n",
    "            \n",
    "# Encoding constraint H2\n",
    "\n",
    "A2 = A1\n",
    "linear_h2 = {}\n",
    "quadratic_h2 = {}\n",
    "offset_h2 = 0.0\n",
    "\n",
    "for sensor in sensors:\n",
    "    for x in car_surface:\n",
    "        \n",
    "        var_x = (x[0], x[1], sensor[\"id\"])\n",
    "        append_linear_safe(var_x, 1, linear_h2)\n",
    "        \n",
    "        for y in env:\n",
    "            var_y = (y[0], y[1], sensor[\"id\"])\n",
    "            \n",
    "            append_linear_safe(var_y, 1, linear_h2)\n",
    "            \n",
    "            append_quadratic_safe((var_x, var_y), -2, quadratic_h2)\n",
    "            \n",
    "        for tupl in itertools.combinations(env, 2):\n",
    "            var_1 = (tupl[0][0], tupl[0][1], sensor[\"id\"])\n",
    "            var_2 = (tupl[1][0], tupl[1][1], sensor[\"id\"])\n",
    "            \n",
    "            append_quadratic_safe((var_1, var_2), 2, quadratic_h2)\n",
    "            \n",
    "bqm_h2 = dimod.BinaryQuadraticModel(linear_h2, quadratic_h2, offset_h2, vartype)\n",
    "bqm_h2.scale(A2)\n",
    "main_bqm.update(bqm_h2)\n",
    "            \n",
    "#for elem in main_bqm.linear:\n",
    "#        print(elem, main_bqm.linear[elem])\n",
    "\n",
    "#for elem in main_bqm.quadratic:\n",
    "#    print(elem, main_bqm.quadratic[elem])\n",
    "            "
   ]
  },
  {
   "cell_type": "markdown",
   "metadata": {},
   "source": [
    "### Constraint 2: range of sensor views"
   ]
  },
  {
   "cell_type": "code",
   "execution_count": 8,
   "metadata": {},
   "outputs": [],
   "source": [
    "# Encoding constraint H3\n",
    "\n",
    "A3 = A2\n",
    "linear_h3 = {}\n",
    "quadratic_h3 = {}\n",
    "offset_h3 = 1\n",
    "\n",
    "for sensor in sensors:\n",
    "    for x in car_surface:\n",
    "        for y in env:\n",
    "            constant = float(pow(distance(x, y) - sensor[\"view\"][\"range\"], 2)) + 1\n",
    "            \n",
    "            # print(constant)\n",
    "            #if constant != 1:\n",
    "            #    constant = pow(distance(x, y) + 1 - sensor[\"view\"][\"range\"] + 1, 2)\n",
    "            \n",
    "            var_x = (x[0], x[1], sensor[\"id\"])\n",
    "            var_y = (y[0], y[1], sensor[\"id\"])\n",
    "            \n",
    "            #append_linear_safe(var_x, pow(constant, 2), linear_h3)\n",
    "            #append_linear_safe(var_y, pow(constant, 2), linear_h3)\n",
    "            \n",
    "            append_quadratic_safe((var_x, var_y), float(pow(constant, 2)) - 2*constant, quadratic_h3)\n",
    "            \n",
    "bqm_h3 = dimod.BinaryQuadraticModel(linear_h3, quadratic_h3, offset_h3, vartype)\n",
    "bqm_h3.scale(A3)\n",
    "main_bqm.update(bqm_h3)\n",
    "    "
   ]
  },
  {
   "cell_type": "markdown",
   "metadata": {},
   "source": [
    "### Constraint 3: maximizing sensor view coverage"
   ]
  },
  {
   "cell_type": "markdown",
   "metadata": {},
   "source": [
    "Other constaints try to minimize the number of sensors. Thus the trivial solution to these is not to include any sensors. On the other hand, this part of the model tries to maximize the coverage. This creates a sort of tension between different parts of this optimization problem which eventually unstabilizes the energy and creates some non-trivial solution to the problem."
   ]
  },
  {
   "cell_type": "code",
   "execution_count": 9,
   "metadata": {},
   "outputs": [],
   "source": [
    "# Encoding constraint H4\n",
    "\n",
    "total_points = len(env)\n",
    "\n",
    "A4 = 2*2 # Seems to have huge affect on the result\n",
    "linear_h4 = {}\n",
    "quadratic_h4 = {}\n",
    "offset_h4 = float(pow(total_points, 2))\n",
    "\n",
    "for sensor in sensors:\n",
    "    for x in car_surface:\n",
    "        for y in env:\n",
    "            covered_area = float(pow(sensor[\"view\"][\"range\"], 2))*float(math.tan(math.pi * float(sensor[\"view\"][\"angle\"] / 360)))\n",
    "            \n",
    "            quadratic_constant = float(pow(covered_area, 2)) - 2*covered_area*total_points\n",
    "            \n",
    "            var_x = (x[0], x[1], sensor[\"id\"])\n",
    "            var_y = (y[0], y[1], sensor[\"id\"])\n",
    "            \n",
    "            append_quadratic_safe((var_x, var_y), quadratic_constant, quadratic_h4)\n",
    "            \n",
    "bqm_h4 = dimod.BinaryQuadraticModel(linear_h4, quadratic_h4, offset_h4, vartype)\n",
    "bqm_h4.scale(A4)\n",
    "main_bqm.update(bqm_h4)\n",
    "            "
   ]
  },
  {
   "cell_type": "markdown",
   "metadata": {},
   "source": [
    "### Constraint 4: optimizing overlap of sensor views"
   ]
  },
  {
   "cell_type": "code",
   "execution_count": 10,
   "metadata": {},
   "outputs": [],
   "source": [
    "# Encoding constraint H5\n",
    "\n",
    "for p in env:\n",
    "    cr = critical_value(p[0], p[1])\n",
    "    A5 = 40\n",
    "    linear_h5 = {}\n",
    "    quadratic_h5 = {}\n",
    "    offset_h5 = float(pow(cr, 2))\n",
    "    \n",
    "    for sensor in sensors:\n",
    "        for x in car_surface:\n",
    "            for y in env:\n",
    "                covers = sensor_covers(x, y, p, sensor)\n",
    "                \n",
    "                var_x = (x[0], x[1], sensor[\"id\"])\n",
    "                var_y = (y[0], y[1], sensor[\"id\"])\n",
    "            \n",
    "                append_quadratic_safe((var_x, var_y), float(pow(covers, 2) - 2*cr*covers), quadratic_h5)\n",
    "                \n",
    "    bqm_h5 = dimod.BinaryQuadraticModel(linear_h5, quadratic_h5, offset_h5, vartype)\n",
    "    bqm_h5.scale(A5)\n",
    "    main_bqm.update(bqm_h5)"
   ]
  },
  {
   "cell_type": "markdown",
   "metadata": {},
   "source": [
    "### Constraint 5: minimizing total price"
   ]
  },
  {
   "cell_type": "code",
   "execution_count": 11,
   "metadata": {},
   "outputs": [],
   "source": [
    "# Encoding constraint H6\n",
    "\n",
    "A6 = 1000\n",
    "linear_h6 = {}\n",
    "quadratic_h6 = {}\n",
    "offset_h6 = 0.0\n",
    "\n",
    "for sensor in sensors:\n",
    "    for x in car_surface:\n",
    "        for y in env:\n",
    "            var_x = (x[0], x[1], sensor[\"id\"])\n",
    "            var_y = (y[0], y[1], sensor[\"id\"])\n",
    "            \n",
    "            append_quadratic_safe((var_x, var_y), sensor[\"price\"], quadratic_h6)\n",
    "\n",
    "bqm_h6 = dimod.BinaryQuadraticModel(linear_h6, quadratic_h6, offset_h6, vartype)\n",
    "bqm_h6.scale(A6)\n",
    "main_bqm.update(bqm_h6)\n",
    "\n",
    "#for elem in main_bqm.linear:\n",
    "#        print(elem, main_bqm.linear[elem])\n",
    "\n",
    "#for elem in main_bqm.quadratic:\n",
    "#    if main_bqm.quadratic[elem] != 16:\n",
    "#        print(elem, main_bqm.quadratic[elem])"
   ]
  },
  {
   "cell_type": "markdown",
   "metadata": {},
   "source": [
    "### Solve QUBO"
   ]
  },
  {
   "cell_type": "markdown",
   "metadata": {},
   "source": [
    "Unfortunately, LeapHybridSampler is not available in Amazon Bracket. That is why this code will not work in Bracket. On the other hand, we tried run the code using BracketDwaveSampler but the problem cannot be mapped to the circuits."
   ]
  },
  {
   "cell_type": "code",
   "execution_count": 12,
   "metadata": {},
   "outputs": [
    {
     "name": "stdout",
     "output_type": "stream",
     "text": [
      "  (-8, -8, 1) (-8, -8, 2) (-8, -7, 1) ... (8, 8, 2)    energy num_oc.\n",
      "0           0           0           0 ...         0 -0.102623       1\n",
      "['BINARY', 1 rows, 1 samples, 570 variables]\n",
      "\n",
      "Possible sensor positions in the space (x-coordinate, y-coordinate, sensor id):\n",
      "(-6, -8, 1) 1\n",
      "(-6, -7, 1) 1\n",
      "(-6, -6, 1) 1\n",
      "(-6, -5, 1) 1\n",
      "(-6, -4, 1) 1\n",
      "(-6, -3, 1) 1\n",
      "(-6, -2, 1) 1\n",
      "(-6, -1, 1) 1\n",
      "(-6, 1, 1) 1\n",
      "(-6, 5, 1) 1\n",
      "(-6, 7, 1) 1\n",
      "(-6, 8, 1) 1\n",
      "(-5, -8, 1) 1\n",
      "(-5, -7, 1) 1\n",
      "(-5, -6, 1) 1\n",
      "(-5, -5, 1) 1\n",
      "(-5, -4, 1) 1\n",
      "(-5, -3, 1) 1\n",
      "(-5, -2, 1) 1\n",
      "(-5, -1, 1) 1\n",
      "(-5, 1, 1) 1\n",
      "(-5, 2, 1) 1\n",
      "(-5, 3, 1) 1\n",
      "(-5, 4, 1) 1\n",
      "(-5, 5, 1) 1\n",
      "(-5, 6, 1) 1\n",
      "(-5, 7, 1) 1\n",
      "(-5, 8, 1) 1\n",
      "(0, 0, 1) 1\n",
      "(0, 1, 1) 1\n",
      "(0, 2, 1) 1\n",
      "(0, 3, 1) 1\n",
      "(2, 0, 1) 1\n",
      "(2, 1, 1) 1\n",
      "(2, 2, 1) 1\n",
      "(2, 3, 1) 1\n",
      "(7, -8, 1) 1\n",
      "(7, -7, 1) 1\n",
      "(7, -6, 1) 1\n",
      "(7, -5, 1) 1\n",
      "(7, -4, 1) 1\n",
      "(7, -3, 1) 1\n",
      "(7, -2, 1) 1\n",
      "(7, 4, 1) 1\n",
      "(7, 5, 1) 1\n",
      "(7, 6, 1) 1\n",
      "(7, 7, 1) 1\n",
      "(7, 8, 1) 1\n",
      "(8, -8, 1) 1\n",
      "(8, -7, 1) 1\n",
      "(8, -6, 1) 1\n",
      "(8, -5, 1) 1\n",
      "(8, -4, 1) 1\n",
      "(8, -3, 1) 1\n",
      "(8, 0, 1) 1\n",
      "(8, 8, 1) 1\n",
      "56\n"
     ]
    }
   ],
   "source": [
    "main_bqm.normalize()\n",
    "\n",
    "sampler = LeapHybridSampler()\n",
    "sampleset = sampler.sample(main_bqm, label='BMW Sensor Position', time_limit = 3)\n",
    "sample = sampleset.first.sample\n",
    "print(sampleset)\n",
    "print()\n",
    "# energy = sampleset.first.energy\n",
    "print(\"Possible sensor positions in the space (x-coordinate, y-coordinate, sensor id):\")\n",
    "i = 0\n",
    "for varname, value in sample.items():\n",
    "    if value == 1:\n",
    "        i+=1\n",
    "        print(varname, value)\n",
    "print(i)"
   ]
  },
  {
   "cell_type": "code",
   "execution_count": null,
   "metadata": {},
   "outputs": [],
   "source": []
  }
 ],
 "metadata": {
  "kernelspec": {
   "display_name": "Python 3",
   "language": "python",
   "name": "python3"
  },
  "language_info": {
   "codemirror_mode": {
    "name": "ipython",
    "version": 3
   },
   "file_extension": ".py",
   "mimetype": "text/x-python",
   "name": "python",
   "nbconvert_exporter": "python",
   "pygments_lexer": "ipython3",
   "version": "3.8.3"
  }
 },
 "nbformat": 4,
 "nbformat_minor": 4
}
