{
 "cells": [
  {
   "cell_type": "markdown",
   "metadata": {},
   "source": [
    "# This file implements overlap function"
   ]
  },
  {
   "cell_type": "code",
   "execution_count": 4,
   "metadata": {},
   "outputs": [],
   "source": [
    "import numpy as np\n",
    "import math"
   ]
  },
  {
   "cell_type": "code",
   "execution_count": 5,
   "metadata": {},
   "outputs": [],
   "source": [
    "def unit_vector(vector):\n",
    "    \"\"\" Returns the unit vector of the vector.  \"\"\"\n",
    "    return vector / np.linalg.norm(vector)\n",
    "\n",
    "def angle_between(v1, v2):\n",
    "    \"\"\" Returns the angle in radians between vectors 'v1' and 'v2'::\n",
    "\n",
    "            >>> angle_between((1, 0, 0), (0, 1, 0))\n",
    "            1.5707963267948966\n",
    "            >>> angle_between((1, 0, 0), (1, 0, 0))\n",
    "            0.0\n",
    "            >>> angle_between((1, 0, 0), (-1, 0, 0))\n",
    "            3.141592653589793\n",
    "    \"\"\"\n",
    "    v1_u = unit_vector(v1)\n",
    "    v2_u = unit_vector(v2)\n",
    "    return np.arccos(np.clip(np.dot(v1_u, v2_u), -1.0, 1.0))\n",
    "\n",
    "def plane_equation(c1, c2, c3):\n",
    "    p1 = np.array([c1[0], c1[1], c1[2]])\n",
    "    p2 = np.array([c2[0], c2[1], c2[2]])\n",
    "    p3 = np.array([c3[0], c3[1], c3[2]])\n",
    "    \n",
    "    # These two vectors are in the plane\n",
    "    v1 = (p3 - p1)/np.linalg.norm(p3 - p1)\n",
    "    #v2 = (p2 - p1)/np.linalg.norm(p2 - p1)\n",
    "    \n",
    "    v2 = unit_vector((p2 - p1) + (-(v1)*math.sin(90-angle_between(p2 - p1, v1))*np.linalg.norm(p2 - p1)))\n",
    "    \n",
    "    # cross product is a vector normal to the plane\n",
    "    cp = np.cross(v1, v2)/np.linalg.norm(np.cross(v1, v2))\n",
    "    a, b, c = cp\n",
    "    \n",
    "    # This evaluates a * x3 + b * y3 + c * z3 which equals d\n",
    "    d = np.dot(cp, p3)\n",
    "    \n",
    "    #print('Equation is {0}x + {1}y + {2}z = {3}'.format(a, b, c, d))\n",
    "    \n",
    "    #plot_region(a, b, c, d)\n",
    "    \n",
    "    return { 'span1': v1, 'span2': v2, 'normal_vector': cp, 'x': a, 'y': b, 'z': c, 'd': d }"
   ]
  },
  {
   "cell_type": "code",
   "execution_count": 12,
   "metadata": {},
   "outputs": [
    {
     "name": "stdout",
     "output_type": "stream",
     "text": [
      "[ 0.57154761 -0.81649658 -0.08164966]\n",
      "0.6154797086703871\n",
      "[-0.80829038 -0.57735027  0.11547005]\n",
      "[0, 0, 0]\n"
     ]
    }
   ],
   "source": [
    "#(-1400, 1000, 1200), (-1400, -1000, 1200), (0, -1000, 1000)\n",
    "p1 = np.array((-1400, 1000, 1200))\n",
    "p2 = np.array((-1400, -1000, 1200))\n",
    "p3 = np.array((0, -1000, 1000))\n",
    "\n",
    "# These two vectors are in the plane\n",
    "v1 = (p3 - p1)/np.linalg.norm(p3 - p1)\n",
    "print(v1)\n",
    "#v2 = (p2 - p1)/np.linalg.norm(p2 - p1)\n",
    "\n",
    "print(angle_between(p2 - p1, v1))\n",
    "\n",
    "v2 = unit_vector((p2 - p1) + (-(v1)*math.sin(math.pi/2 - angle_between(p2 - p1, v1))*np.linalg.norm(p2 - p1)))\n",
    "print(v2)\n",
    "print([math.ceil(x) for x in np.cross(v1, v2)])"
   ]
  },
  {
   "cell_type": "code",
   "execution_count": null,
   "metadata": {},
   "outputs": [],
   "source": [
    "def overlap(sensor1, sensor2):\n",
    "    return 0"
   ]
  }
 ],
 "metadata": {
  "kernelspec": {
   "display_name": "Python 3",
   "language": "python",
   "name": "python3"
  },
  "language_info": {
   "codemirror_mode": {
    "name": "ipython",
    "version": 3
   },
   "file_extension": ".py",
   "mimetype": "text/x-python",
   "name": "python",
   "nbconvert_exporter": "python",
   "pygments_lexer": "ipython3",
   "version": "3.8.3"
  }
 },
 "nbformat": 4,
 "nbformat_minor": 4
}
