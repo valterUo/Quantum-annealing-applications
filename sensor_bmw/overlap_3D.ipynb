{
 "cells": [
  {
   "cell_type": "markdown",
   "metadata": {},
   "source": [
    "# This file implements overlap function"
   ]
  },
  {
   "cell_type": "code",
   "execution_count": 1,
   "metadata": {},
   "outputs": [],
   "source": [
    "import numpy as np\n",
    "import math\n",
    "\n",
    "# For testing purposes\n",
    "sensors = [{'id': 1, 'type': 1, 'view': {'angle': {'horizontal': 10, 'vertical': 50}, 'range': 200}, 'price': 100}, {'id': 2, 'type': 2, 'view': {'angle': {'horizontal': 10, 'vertical': 50}, 'range': 500}, 'price': 200}, {'id': 3, 'type': 3, 'view': {'angle': {'horizontal': 10, 'vertical': 50}, 'range': 700}, 'price': 100}, {'id': 4, 'type': 1, 'view': {'angle': {'horizontal': 10, 'vertical': 50}, 'range': 1000}, 'price': 10}, {'id': 5, 'type': 2, 'view': {'angle': {'horizontal': 10, 'vertical': 50}, 'range': 1000}, 'price': 100}]"
   ]
  },
  {
   "cell_type": "code",
   "execution_count": 5,
   "metadata": {},
   "outputs": [],
   "source": [
    "# Case 1\n",
    "# We obtain the maximum overlap in the case that the middle line of the fields of views are on the same line and on the same car surface\n",
    "\n",
    "def sensor_inside_sensor(car_p1, env_p1, car_p2, env_p2):\n",
    "    if car_p2.all() == env_p2.all():\n",
    "        return True\n",
    "    if car_p1.all() == car_p2.all():\n",
    "        line = (car_p1 - env_p1)/(car_p2 - env_p2)\n",
    "        for i in range(len(line) - 1):\n",
    "            if line[i] != line[i+1]:\n",
    "                return False\n",
    "        else:\n",
    "            return True\n",
    "    return False"
   ]
  },
  {
   "cell_type": "code",
   "execution_count": 6,
   "metadata": {},
   "outputs": [],
   "source": [
    "def overlap(b1, b2):\n",
    "    car_p1 = np.array([int(x) for x in b1[0]])\n",
    "    env_p1 = np.array([int(x) for x in b1[1]])\n",
    "    id1 = int(b1[2])\n",
    "    \n",
    "    car_p2 = np.array([int(x) for x in b2[0]])\n",
    "    env_p2 = np.array([int(x) for x in b2[1]])\n",
    "    id2 = int(b2[2])\n",
    "    \n",
    "    if sensor_inside_sensor(car_p1, env_p1, car_p2, env_p2):\n",
    "        return 1\n",
    "    \n",
    "    cone_axis1 = env_p1 - car_p1\n",
    "    cone_axis2 = env_p2 - car_p2\n",
    "    \n",
    "    # Angle between the axis\n",
    "    \n",
    "    u_cone_axis1 = cone_axis1 / np.linalg.norm(cone_axis1)\n",
    "    u_cone_axis2 = cone_axis2 / np.linalg.norm(cone_axis2)\n",
    "    \n",
    "    axis_angle = np. arccos(np.dot(u_cone_axis1, u_cone_axis2))\n",
    "    \n",
    "    #print(math.degrees(axis_angle))\n",
    "    \n",
    "    # Distance between the middle points of the vectors cone_axis1 and cone_axis2\n",
    "    \n",
    "    mid_cone_axis1 = (np.linalg.norm(cone_axis1)/2)*u_cone_axis1\n",
    "    mid_cone_axis2 = (np.linalg.norm(cone_axis2)/2)*u_cone_axis2\n",
    "    \n",
    "    mid_point_dist = np.linalg.norm(mid_cone_axis1 - mid_cone_axis2)\n",
    "    \n",
    "    top_point_dist = np.linalg.norm(env_p1 - env_p2)\n",
    "    \n",
    "    #print(mid_point_dist)\n",
    "    \n",
    "    sensor1, sensor2 = None, None\n",
    "    \n",
    "    for sensor in sensors:\n",
    "        \n",
    "        if sensor['id'] == id1:\n",
    "            sensor1 = sensor\n",
    "        \n",
    "        if sensor['id'] == id2:\n",
    "            sensor2 = sensor\n",
    "            \n",
    "    # This part of the code is very heuristical and possibly works badly and ruins everything\n",
    "    \n",
    "    side1 = np.linalg.norm(cone_axis1)\n",
    "    side2 = np.linalg.norm(cone_axis2)\n",
    "    \n",
    "    top_half1_dist1 = math.tan(math.radians(sensor1[\"view\"][\"angle\"][\"horizontal\"])/2)*side1\n",
    "    top_half1_dist2 = math.tan(math.radians(sensor1[\"view\"][\"angle\"][\"vertical\"])/2)*side1\n",
    "    \n",
    "    top_half2_dist1 = math.tan(math.radians(sensor2[\"view\"][\"angle\"][\"horizontal\"])/2)*side2\n",
    "    top_half2_dist2 = math.tan(math.radians(sensor2[\"view\"][\"angle\"][\"vertical\"])/2)*side2\n",
    "    \n",
    "    #print(\"Distances on top: \", top_half1_dist1, top_half1_dist2, top_half2_dist1, top_half2_dist2)\n",
    "    \n",
    "    mid_half1_dist1 = top_half1_dist1/2\n",
    "    mid_half1_dist2 = top_half1_dist2/2\n",
    "    \n",
    "    mid_half2_dist1 = top_half2_dist1/2\n",
    "    mid_half2_dist2 = top_half2_dist2/2\n",
    "    \n",
    "    #print(\"Distances in middle: \", mid_half1_dist1, mid_half1_dist2, mid_half2_dist1, mid_half2_dist2)\n",
    "    \n",
    "    difference_top1 = top_half1_dist1 + top_half2_dist1 - top_point_dist\n",
    "    difference_top2 = top_half1_dist2 + top_half2_dist2 - top_point_dist\n",
    "    \n",
    "    difference_mid1 = mid_half1_dist1 + mid_half2_dist1 - mid_point_dist\n",
    "    difference_mid2 = mid_half1_dist2 + mid_half2_dist2 - mid_point_dist\n",
    "    \n",
    "    #print(\"Top differences: \", difference_top1, difference_top2)\n",
    "    #print(\"Middle differences: \", difference_mid1, difference_mid2)\n",
    "    \n",
    "    top_divisor1 = max([top_half1_dist1, top_half2_dist1])\n",
    "    top_divisor2 = max([top_half1_dist2, top_half2_dist2])\n",
    "    \n",
    "    top_divisor = top_divisor1 + top_divisor2\n",
    "    \n",
    "    mid_divisor1 = max([mid_half1_dist1, mid_half2_dist1])\n",
    "    mid_divisor2 = max([mid_half1_dist2, mid_half2_dist2])\n",
    "    \n",
    "    mid_divisor = mid_divisor1 + mid_divisor2\n",
    "    \n",
    "    top_sum = 0\n",
    "    mid_sum = 0\n",
    "    \n",
    "    if difference_top1 > 0:\n",
    "        top_sum += difference_top1\n",
    "    if difference_top2 > 0:\n",
    "        top_sum += difference_top2\n",
    "    if difference_mid1 > 0:\n",
    "        mid_sum += difference_mid1\n",
    "    if difference_mid2 > 0:\n",
    "        mid_sum += difference_mid2\n",
    "    \n",
    "    overlap_result = (top_sum + mid_sum)/(top_divisor + mid_divisor)\n",
    "    \n",
    "    print(\"Final result: \", overlap_result)\n",
    "    \n",
    "    if overlap_result > 1:\n",
    "        return 1/overlap_result\n",
    "    \n",
    "    return overlap_result"
   ]
  },
  {
   "cell_type": "code",
   "execution_count": 7,
   "metadata": {},
   "outputs": [
    {
     "data": {
      "text/plain": [
       "1"
      ]
     },
     "execution_count": 7,
     "metadata": {},
     "output_type": "execute_result"
    }
   ],
   "source": [
    "overlap(((-2200, -550, 1745), (-2308, -603, 1608), 1), ((-2200, -550, 1745), (-2286, -648, 1592), 1))"
   ]
  },
  {
   "cell_type": "code",
   "execution_count": null,
   "metadata": {},
   "outputs": [],
   "source": []
  }
 ],
 "metadata": {
  "kernelspec": {
   "display_name": "Python 3",
   "language": "python",
   "name": "python3"
  },
  "language_info": {
   "codemirror_mode": {
    "name": "ipython",
    "version": 3
   },
   "file_extension": ".py",
   "mimetype": "text/x-python",
   "name": "python",
   "nbconvert_exporter": "python",
   "pygments_lexer": "ipython3",
   "version": "3.8.3"
  }
 },
 "nbformat": 4,
 "nbformat_minor": 4
}
