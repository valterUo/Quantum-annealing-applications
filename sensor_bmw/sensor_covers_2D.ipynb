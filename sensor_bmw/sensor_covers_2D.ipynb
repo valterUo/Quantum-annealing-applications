{
 "cells": [
  {
   "cell_type": "markdown",
   "metadata": {},
   "source": [
    "#### This file implements the functions to calculate barycentric coordinates and checking if the given point belongs to the triangle"
   ]
  },
  {
   "cell_type": "code",
   "execution_count": null,
   "metadata": {},
   "outputs": [],
   "source": [
    "import math\n",
    "\n",
    "def sign(v1, v2, v3):\n",
    "    return (v1[0] - v3[0])*(v2[1] - v3[1]) - (v2[0] - v3[0])*(v1[1] - v3[1])\n",
    "\n",
    "def sensor_covers(x, y, pt, sensor):\n",
    "    angle = sensor[\"view\"][\"angle\"]\n",
    "    scaler = math.tan(math.pi*angle/360)\n",
    "    x1 = x[0]\n",
    "    x2 = x[1]\n",
    "    y1 = y[0]\n",
    "    y2 = y[1]\n",
    "    \n",
    "    v1 = (y1 - x1 + scaler*(x2 - y2), y2 - x2 + scaler*(y1 - x1))\n",
    "    v2 = (y1 - x1 + scaler*(y2 - x2), y2 - x2 + scaler*(x1 - y1))\n",
    "    \n",
    "    s1 = sign(pt, v1, v2)\n",
    "    s2 = sign(pt, v2, x)\n",
    "    s3 = sign(pt, x, v1)\n",
    "    \n",
    "    if s1 > 0 and s2 > 0 and s3 > 0:\n",
    "        return 1\n",
    "    elif s1 < 0 and s2 < 0 and s3 < 0:\n",
    "        return 1\n",
    "    \n",
    "    return 0\n",
    "    \n",
    "    "
   ]
  }
 ],
 "metadata": {
  "kernelspec": {
   "display_name": "Python 3",
   "language": "python",
   "name": "python3"
  },
  "language_info": {
   "codemirror_mode": {
    "name": "ipython",
    "version": 3
   },
   "file_extension": ".py",
   "mimetype": "text/x-python",
   "name": "python",
   "nbconvert_exporter": "python",
   "pygments_lexer": "ipython3",
   "version": "3.8.3"
  }
 },
 "nbformat": 4,
 "nbformat_minor": 4
}
