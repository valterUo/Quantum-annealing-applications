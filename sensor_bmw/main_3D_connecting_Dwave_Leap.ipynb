{
 "cells": [
  {
   "cell_type": "markdown",
   "metadata": {},
   "source": [
    "# Sensor Position Optimization"
   ]
  },
  {
   "cell_type": "markdown",
   "metadata": {},
   "source": [
    "### BMW Quantum Computing Challenge"
   ]
  },
  {
   "cell_type": "markdown",
   "metadata": {},
   "source": [
    "#### Valter Uotila, Unified Database Management Systems\n",
    "#### Sardana Ivanova, Discovery Research Group"
   ]
  },
  {
   "cell_type": "markdown",
   "metadata": {},
   "source": [
    "#### Department of Computer Science, University of Helsinki"
   ]
  },
  {
   "cell_type": "markdown",
   "metadata": {},
   "source": [
    "## Remarks about the implementation"
   ]
  },
  {
   "cell_type": "markdown",
   "metadata": {},
   "source": [
    "We have been learning, testing and developing some basic quantum algorithms using D-waves own API but we are not very experienced with details related to these quantum computers.\n",
    "\n",
    "Unfortunately, it seems that Amazon Bracket does not yet support D-waves hybrid solvers. We might be wrong but we could not figure out how to access, for example, LeapHybridSampler using Bracket. It seems that BracketDWaveSampler and BracketSampler are using the standard DWaveSampler (https://docs.ocean.dwavesys.com/projects/system/en/stable/reference/samplers.html). Because our solution is based on LeapHybridSampler, it is not possible to run it in Bracket. Maybe in the future Amazon will implement something like BracketDWaveHybridSampler which offers the functionality of LeapHybridSampler. Anyway, we are positively impressed how Bracket collects various quantum computing resources together."
   ]
  },
  {
   "cell_type": "markdown",
   "metadata": {},
   "source": [
    "## Initializing parameters"
   ]
  },
  {
   "cell_type": "markdown",
   "metadata": {},
   "source": [
    "### Importing D-wave packages"
   ]
  },
  {
   "cell_type": "markdown",
   "metadata": {},
   "source": [
    "Note that in order to run the codes here, you need to be able to successfully access D-wave quantum cloud computing resources. You can see more info at https://cloud.dwavesys.com/. We are used to develop with D-waves developer's plan which includes 1 min of quantum computing time per month."
   ]
  },
  {
   "cell_type": "code",
   "execution_count": 209,
   "metadata": {},
   "outputs": [],
   "source": [
    "import dimod\n",
    "\n",
    "from dwave.system import LeapHybridSampler\n",
    "\n",
    "import json\n",
    "import csv\n",
    "\n",
    "import itertools\n",
    "import os\n",
    "import math\n",
    "\n",
    "import numpy as np\n",
    "from matplotlib import pyplot\n",
    "from mpl_toolkits.mplot3d import Axes3D\n",
    "from mpl_toolkits import mplot3d\n",
    "from sympy import *\n",
    "\n",
    "from ipynb.fs.defs.overlap_3D import overlap\n",
    "\n",
    "notebook_path = os.path.abspath(\"main_3D_connecting_Dwave_Leap.ipynb\")"
   ]
  },
  {
   "cell_type": "markdown",
   "metadata": {},
   "source": [
    "### Global parameters"
   ]
  },
  {
   "cell_type": "code",
   "execution_count": 210,
   "metadata": {},
   "outputs": [],
   "source": [
    "car_sample_accuracy = 100\n",
    "\n",
    "angle_accuracy = 30\n",
    "\n",
    "variables = dict()"
   ]
  },
  {
   "cell_type": "markdown",
   "metadata": {},
   "source": [
    "### Importing sensors"
   ]
  },
  {
   "cell_type": "code",
   "execution_count": 211,
   "metadata": {},
   "outputs": [
    {
     "name": "stdout",
     "output_type": "stream",
     "text": [
      "[{'id': 1, 'type': 1, 'view': {'angle': {'horizontal': 10, 'vertical': 50}, 'range': 200}, 'price': 100}, {'id': 2, 'type': 2, 'view': {'angle': {'horizontal': 10, 'vertical': 50}, 'range': 500}, 'price': 200}, {'id': 3, 'type': 3, 'view': {'angle': {'horizontal': 10, 'vertical': 50}, 'range': 700}, 'price': 100}, {'id': 4, 'type': 1, 'view': {'angle': {'horizontal': 10, 'vertical': 50}, 'range': 1000}, 'price': 10}, {'id': 5, 'type': 2, 'view': {'angle': {'horizontal': 10, 'vertical': 50}, 'range': 1000}, 'price': 100}]\n"
     ]
    }
   ],
   "source": [
    "abs_sensors_file_path = os.path.join(os.path.dirname(notebook_path), \"3d_example_data/3D_sensors_set_1.json\")\n",
    "\n",
    "sensor_types = {0: 'lidar', 1: 'radar', 2: 'camera', 3: 'ultrasound'}\n",
    "\n",
    "f = open(abs_sensors_file_path)\n",
    "\n",
    "sensor_root = json.load(f)\n",
    "sensors = sensor_root[\"sensors\"]\n",
    "\n",
    "print(sensors)"
   ]
  },
  {
   "cell_type": "markdown",
   "metadata": {},
   "source": [
    "### Initializing allowed sensor positions on car"
   ]
  },
  {
   "cell_type": "markdown",
   "metadata": {},
   "source": [
    "Here we utilize the data BMW provided. Compared to the first-round 2D version, the car model in this second-round version is based on the allowed sensor positions data. In order to create variables, we need to sample some points from the surfaces. To sample points, we need some easier format than vector representation. Thus we calculate the plane equation for the surfaces. The equation allows us to sample points when we are creating the variables."
   ]
  },
  {
   "cell_type": "code",
   "execution_count": 212,
   "metadata": {},
   "outputs": [],
   "source": [
    "def plane_equation(c1, c2, c3):\n",
    "    p1 = np.array([c1[0], c1[1], c1[2]])\n",
    "    p2 = np.array([c2[0], c2[1], c2[2]])\n",
    "    p3 = np.array([c3[0], c3[1], c3[2]])\n",
    "    \n",
    "    # These two vectors are in the plane\n",
    "    v1 = p3 - p1\n",
    "    v2 = p2 - p1\n",
    "    \n",
    "    # cross product is a vector normal to the plane\n",
    "    cp = np.cross(v1, v2)\n",
    "    a, b, c = cp\n",
    "    \n",
    "    # This evaluates a * x3 + b * y3 + c * z3 which equals d\n",
    "    d = np.dot(cp, p3)\n",
    "    \n",
    "    #print('Equation is {0}x + {1}y + {2}z = {3}'.format(a, b, c, d))\n",
    "    \n",
    "    #plot_region(a, b, c, d)\n",
    "    \n",
    "    return { 'span1': v1, 'span2': v2, 'normal_vector': cp, 'x': a, 'y': b, 'z': c, 'd': d }\n",
    "\n",
    "def plot_region(a, b, c, d):\n",
    "    x = np.linspace(-1,1,10)\n",
    "    y = np.linspace(-1,1,10)\n",
    "\n",
    "    X,Y = np.meshgrid(x,y)\n",
    "    if c != 0:\n",
    "        Z = (d - a*X - b*Y) / c\n",
    "\n",
    "        fig = plt.figure()\n",
    "        ax = fig.gca(projection='3d')\n",
    "\n",
    "        surf = ax.plot_surface(X, Y, Z)\n",
    "        \n",
    "def scatter_plot(points):\n",
    "    fig = plt.figure()\n",
    "    #ax = pyplot.axes(projection='3d')\n",
    "    #ax = fig.add_subplot(111, projection='3d')\n",
    "    ax = Axes3D(fig)\n",
    "    \n",
    "    x_vals = [c[0] for c in points]\n",
    "    y_vals = [c[1] for c in points]\n",
    "    z_vals = [c[2] for c in points]\n",
    "    \n",
    "    #ax.scatter3D(x_vals, y_vals, z_vals, c=z_vals);\n",
    "    \n",
    "    ax.scatter(x_vals, y_vals, z_vals)\n",
    "    #ax.set_xlabel('X Label')\n",
    "    #ax.set_ylabel('Y Label')\n",
    "    #ax.set_zlabel('Z Label')\n",
    "    pyplot.show()\n",
    "    \n",
    "    "
   ]
  },
  {
   "cell_type": "code",
   "execution_count": 213,
   "metadata": {},
   "outputs": [
    {
     "name": "stdout",
     "output_type": "stream",
     "text": [
      "bonnet {'corners': [(-1400, 1000, 1200), (-1400, -1000, 1200), (0, -1000, 1000), (0, 1000, 1000)], 'allowed_sensors': ['lidar', 'camera'], 'equation': {'span1': array([ 1400, -2000,  -200]), 'span2': array([    0, -2000,     0]), 'normal_vector': array([ -400000,        0, -2800000]), 'x': -400000, 'y': 0, 'z': -2800000, 'd': 1494967296}, 'fixed_intervals': {'y': range(-1000, 1000, 100)}}\n",
      "side mirror left {'corners': [(-1400, 1150, 1320), (-1400, 950, 1320), (-1400, 950, 1200), (-1400, 1150, 1200)], 'allowed_sensors': ['lidar', 'camera'], 'equation': {'span1': array([   0, -200, -120]), 'span2': array([   0, -200,    0]), 'normal_vector': array([-24000,      0,      0]), 'x': -24000, 'y': 0, 'z': 0, 'd': 33600000}, 'fixed_intervals': {'y': range(950, 1150, 100), 'z': range(1200, 1320, 100)}}\n",
      "side mirror right {'corners': [(-1400, -950, 1320), (-1400, -1150, 1320), (-1400, -1150, 1200), (-1400, -950, 1200)], 'allowed_sensors': ['lidar', 'camera'], 'equation': {'span1': array([   0, -200, -120]), 'span2': array([   0, -200,    0]), 'normal_vector': array([-24000,      0,      0]), 'x': -24000, 'y': 0, 'z': 0, 'd': 33600000}, 'fixed_intervals': {'y': range(-1150, -950, 100), 'z': range(1200, 1320, 100)}}\n",
      "camera behind windshield {'corners': [(-2000, 700, 1600), (-2000, -700, 1600), (-1900, -700, 1500), (-1900, 700, 1500)], 'allowed_sensors': ['camera'], 'equation': {'span1': array([  100, -1400,  -100]), 'span2': array([    0, -1400,     0]), 'normal_vector': array([-140000,       0, -140000]), 'x': -140000, 'y': 0, 'z': -140000, 'd': 56000000}, 'fixed_intervals': {'y': range(-700, 700, 100)}}\n",
      "front roof {'corners': [(-2200, 550, 1745), (-2200, -550, 1745), (-2000, -650, 1600), (-2000, 650, 1600)], 'allowed_sensors': ['lidar', 'camera', 'ultrasound', 'radar'], 'equation': {'span1': array([  200, -1200,  -145]), 'span2': array([    0, -1100,     0]), 'normal_vector': array([-159500,       0, -220000]), 'x': -159500, 'y': 0, 'z': -220000, 'd': -33000000}, 'fixed_intervals': {'y': range(-550, 550, 100)}}\n",
      "back {'corners': [(-4922, 1000, 1000), (-4922, -1000, 1000), (-4922, -1000, 500), (-4922, 1000, 500)], 'allowed_sensors': ['lidar', 'camera', 'ultrasound', 'radar'], 'equation': {'span1': array([    0, -2000,  -500]), 'span2': array([    0, -2000,     0]), 'normal_vector': array([-1000000,        0,        0]), 'x': -1000000, 'y': 0, 'z': 0, 'd': 627032704}, 'fixed_intervals': {'y': range(-1000, 1000, 100), 'z': range(500, 1000, 100)}}\n",
      "trunk {'corners': [(-4922, 350, 1300), (-4922, -350, 1300), (-4922, -350, 1000), (-4922, 350, 1000)], 'allowed_sensors': ['lidar', 'camera'], 'equation': {'span1': array([   0, -700, -300]), 'span2': array([   0, -700,    0]), 'normal_vector': array([-210000,       0,       0]), 'x': -210000, 'y': 0, 'z': 0, 'd': 1033620000}, 'fixed_intervals': {'y': range(-350, 350, 100), 'z': range(1000, 1300, 100)}}\n",
      "side left {'corners': [(-4922, 1000, 1000), (0, 1000, 1000), (0, 1000, 500), (-4922, 1000, 500)], 'allowed_sensors': ['lidar', 'camera', 'ultrasound', 'radar'], 'equation': {'span1': array([4922,    0, -500]), 'span2': array([4922,    0,    0]), 'normal_vector': array([       0, -2461000,        0]), 'x': 0, 'y': -2461000, 'z': 0, 'd': 1833967296}, 'fixed_intervals': {'x': range(-4922, 0, 100), 'z': range(500, 1000, 100)}}\n",
      "pillar left 1 {'corners': [(-2820, 650, 1600), (-2520, 650, 1600), (-2520, 1000, 1200), (-2820, 1000, 1200)], 'allowed_sensors': ['lidar', 'camera'], 'equation': {'span1': array([ 300,  350, -400]), 'span2': array([300,   0,   0]), 'normal_vector': array([      0, -120000, -105000]), 'x': 0, 'y': -120000, 'z': -105000, 'd': -246000000}, 'fixed_intervals': {'x': range(-2820, -2520, 100)}}\n",
      "pillar left 2 {'corners': [(-3620, 650, 1600), (-3320, 650, 1600), (-3320, 1000, 1200), (-3620, 1000, 1200)], 'allowed_sensors': ['lidar', 'camera'], 'equation': {'span1': array([ 300,  350, -400]), 'span2': array([300,   0,   0]), 'normal_vector': array([      0, -120000, -105000]), 'x': 0, 'y': -120000, 'z': -105000, 'd': -246000000}, 'fixed_intervals': {'x': range(-3620, -3320, 100)}}\n",
      "roof left {'corners': [(-4400, 550, 1745), (-2200, 550, 1745), (-2000, 650, 1600), (-4400, 650, 1600)], 'allowed_sensors': ['lidar', 'camera'], 'equation': {'span1': array([2400,  100, -145]), 'span2': array([2200,    0,    0]), 'normal_vector': array([      0, -319000, -220000]), 'x': 0, 'y': -319000, 'z': -220000, 'd': -559350000}, 'fixed_intervals': {'x': range(-4400, -2200, 100)}}\n",
      "side right {'corners': [(-4922, -1000, 1000), (0, -1000, 1000), (0, -1000, 500), (-4922, -1000, 500)], 'allowed_sensors': ['lidar', 'camera', 'ultrasound', 'radar'], 'equation': {'span1': array([4922,    0, -500]), 'span2': array([4922,    0,    0]), 'normal_vector': array([       0, -2461000,        0]), 'x': 0, 'y': -2461000, 'z': 0, 'd': -1833967296}, 'fixed_intervals': {'x': range(-4922, 0, 100), 'z': range(500, 1000, 100)}}\n",
      "pillar right 1 {'corners': [(-2820, -650, 1600), (-2520, -650, 1600), (-2520, -1000, 1200), (-2820, -1000, 1200)], 'allowed_sensors': ['lidar', 'camera'], 'equation': {'span1': array([ 300, -350, -400]), 'span2': array([300,   0,   0]), 'normal_vector': array([      0, -120000,  105000]), 'x': 0, 'y': -120000, 'z': 105000, 'd': 246000000}, 'fixed_intervals': {'x': range(-2820, -2520, 100)}}\n",
      "pillar right 2 {'corners': [(-3620, -650, 1600), (-3320, -650, 1600), (-3320, -1000, 1200), (-3620, -1000, 1200)], 'allowed_sensors': ['lidar', 'camera'], 'equation': {'span1': array([ 300, -350, -400]), 'span2': array([300,   0,   0]), 'normal_vector': array([      0, -120000,  105000]), 'x': 0, 'y': -120000, 'z': 105000, 'd': 246000000}, 'fixed_intervals': {'x': range(-3620, -3320, 100)}}\n",
      "roof right {'corners': [(-4400, -550, 1745), (-2200, -550, 1745), (-2000, -650, 1600), (-4400, -650, 1600)], 'allowed_sensors': ['lidar', 'camera'], 'equation': {'span1': array([2400, -100, -145]), 'span2': array([2200,    0,    0]), 'normal_vector': array([      0, -319000,  220000]), 'x': 0, 'y': -319000, 'z': 220000, 'd': 559350000}, 'fixed_intervals': {'x': range(-4400, -2200, 100)}}\n"
     ]
    }
   ],
   "source": [
    "abs_position_file_path = os.path.join(os.path.dirname(notebook_path), \"sensor_position_data/allowed_sensor_positions.csv\")\n",
    "\n",
    "allowed_sensor_positions = dict()\n",
    "\n",
    "with open(abs_position_file_path, newline='') as csvfile:\n",
    "    records = iter(csv.DictReader(csvfile, delimiter=';'))\n",
    "    next(records)\n",
    "    for row in records:\n",
    "        c1 = (int(row[\"x1\"]), int(row[\"y1\"]), int(row[\"z1\"]))\n",
    "        c2 = (int(row[\"x2\"]), int(row[\"y2\"]), int(row[\"z2\"]))\n",
    "        c3 = (int(row[\"x3\"]), int(row[\"y3\"]), int(row[\"z3\"]))\n",
    "        c4 = (int(row[\"x4\"]), int(row[\"y4\"]), int(row[\"z4\"]))\n",
    "        \n",
    "        region = row[\"Region\"].lower()\n",
    "        \n",
    "        allowed_sensor_positions[region] = dict()\n",
    "        allowed_sensor_positions[region][\"corners\"] = [c1, c2, c3, c4]\n",
    "        allowed_sensors = [x.lower() for x in row[\"Allowed Sensors\"].split(\", \")]\n",
    "        allowed_sensor_positions[region][\"allowed_sensors\"] = allowed_sensors\n",
    "        \n",
    "        equation = plane_equation(c1, c2, c3)\n",
    "        allowed_sensor_positions[region][\"equation\"] = equation\n",
    "        \n",
    "        intervals = dict()\n",
    "            \n",
    "        if equation[\"x\"] == 0:\n",
    "            if c1[0] < c2[0]:\n",
    "                intervals[\"x\"] = range(c1[0], c2[0], car_sample_accuracy)\n",
    "            elif c1[0] > c2[0]:\n",
    "                intervals[\"x\"] = range(c2[0], c1[0], car_sample_accuracy)\n",
    "            elif c1[0] < c3[0]:\n",
    "                intervals[\"x\"] = range(c1[0], c3[0], car_sample_accuracy)\n",
    "            elif c1[0] > c3[0]:\n",
    "                intervals[\"x\"] = range(c3[0], c1[0], car_sample_accuracy)\n",
    "                \n",
    "        if equation[\"y\"] == 0:\n",
    "            if c1[1] < c2[1]:\n",
    "                intervals[\"y\"] = range(c1[1], c2[1], car_sample_accuracy)\n",
    "            elif c1[1] > c2[1]:\n",
    "                intervals[\"y\"] = range(c2[1], c1[1], car_sample_accuracy)\n",
    "            elif c1[1] < c3[1]:\n",
    "                intervals[\"y\"] = range(c1[1], c3[1], car_sample_accuracy)\n",
    "            elif c1[1] > c3[1]:\n",
    "                intervals[\"y\"] = range(c3[1], c1[1], car_sample_accuracy)\n",
    "                \n",
    "        if equation[\"z\"] == 0:\n",
    "            if c1[2] < c2[2]:\n",
    "                intervals[\"z\"] = range(c1[2], c2[2], car_sample_accuracy)\n",
    "            elif c1[2] > c2[2]:\n",
    "                intervals[\"z\"] = range(c2[2], c1[2], car_sample_accuracy)\n",
    "            elif c1[2] < c3[2]:\n",
    "                intervals[\"z\"] = range(c1[2], c3[2], car_sample_accuracy)\n",
    "            elif c1[2] > c3[2]:\n",
    "                intervals[\"z\"] = range(c3[2], c1[2], car_sample_accuracy)\n",
    "                \n",
    "        allowed_sensor_positions[region][\"fixed_intervals\"] = intervals\n",
    "\n",
    "for elem in allowed_sensor_positions:\n",
    "    print(elem, allowed_sensor_positions[elem])\n",
    "        "
   ]
  },
  {
   "cell_type": "markdown",
   "metadata": {},
   "source": [
    "### Initializing variables"
   ]
  },
  {
   "cell_type": "markdown",
   "metadata": {},
   "source": [
    "Compared to the first-round, variables are updated to be triples (x, y, i) where x and y are points in the 3D-space and i refers to the sensor id. We fix the point x so that it belongs to some of the allowed sensor positions on the car's surface. The point y is selected from the environment so that the distance between x and y is range R_i for sensor i."
   ]
  },
  {
   "cell_type": "markdown",
   "metadata": {},
   "source": [
    "We are dealing with different cases depending on how the car surface is positioned in the space."
   ]
  },
  {
   "cell_type": "code",
   "execution_count": 214,
   "metadata": {},
   "outputs": [],
   "source": [
    "def sample_from_car_surface(corners, equation, fixed_intervals, car_sample_accuracy):\n",
    "    sample = list()\n",
    "    \n",
    "    # This is the simple case that the plane is parallel with some of the three axis. \n",
    "    # Thus the parallel axis stays constant.\n",
    "    # For example, side mirror, back, trunk and sides are parallel to one of the axis\n",
    "    \n",
    "    if len(fixed_intervals) == 2:\n",
    "        if 'x' in fixed_intervals and 'y' in fixed_intervals:\n",
    "            \n",
    "            z = corners[0][2]\n",
    "            \n",
    "            for x in fixed_intervals['x']:\n",
    "                for y in fixed_intervals['y']:\n",
    "                    sample.append((x, y, z))\n",
    "                    \n",
    "        elif 'x' in fixed_intervals and 'z' in fixed_intervals:\n",
    "            \n",
    "            y = corners[0][1]\n",
    "            \n",
    "            for x in fixed_intervals['x']:\n",
    "                for z in fixed_intervals['z']:\n",
    "                    sample.append((x, y, z))\n",
    "                    \n",
    "        elif 'y' in fixed_intervals and 'z' in fixed_intervals:\n",
    "            \n",
    "            x = corners[0][0]\n",
    "            \n",
    "            for y in fixed_intervals['y']:\n",
    "                for z in fixed_intervals['z']:\n",
    "                    sample.append((x, y, z))\n",
    "\n",
    "    elif len(fixed_intervals) == 1:\n",
    "        \n",
    "        if 'x' in fixed_intervals:\n",
    "            y, z = symbols('y z')\n",
    "            expr = equation['y']*y + equation['z']*z - equation['d']\n",
    "            y_interval = None\n",
    "            \n",
    "            c1 = corners[0][1]\n",
    "            c2 = corners[1][1]\n",
    "            c3 = corners[2][1]\n",
    "            \n",
    "            if c1 < c2:\n",
    "                y_interval = range(c1, c2, car_sample_accuracy)\n",
    "            elif c1 > c2:\n",
    "                y_interval = range(c2, c1, car_sample_accuracy)\n",
    "            elif c1 < c3:\n",
    "                y_interval = range(c1, c3, car_sample_accuracy)\n",
    "            elif c1 > c3:\n",
    "                y_interval = range(c3, c1, car_sample_accuracy)\n",
    "        \n",
    "            \n",
    "            for x in fixed_intervals['x']:\n",
    "                for y_var in y_interval:\n",
    "                    y_expr = expr.subs(y, y_var)\n",
    "                    z = math.floor(solve(y_expr)[0])\n",
    "                    sample.append((x, y_var, z))\n",
    "                    #print((x, y_var, z))\n",
    "                x += car_sample_accuracy\n",
    "                    \n",
    "        elif 'y' in fixed_intervals:\n",
    "            x, z = symbols('x z')\n",
    "            expr = equation['x']*x + equation['z']*z - equation['d']\n",
    "            x_interval = None\n",
    "            \n",
    "            c1 = corners[0][0]\n",
    "            c2 = corners[1][0]\n",
    "            c3 = corners[2][0]\n",
    "            \n",
    "            if c1 < c2:\n",
    "                x_interval = range(c1, c2, car_sample_accuracy)\n",
    "            elif c1 > c2:\n",
    "                x_interval = range(c2, c1, car_sample_accuracy)\n",
    "            elif c1 < c3:\n",
    "                x_interval = range(c1, c3, car_sample_accuracy)\n",
    "            elif c1 > c3:\n",
    "                x_interval = range(c3, c1, car_sample_accuracy)\n",
    "        \n",
    "            \n",
    "            for y in fixed_intervals['y']:\n",
    "                for x_var in x_interval:\n",
    "                    x_expr = expr.subs(x, x_var)\n",
    "                    z = math.floor(solve(x_expr)[0])\n",
    "                    sample.append((x_var, y, z))\n",
    "                    #print((x_var, y, z))\n",
    "                y += car_sample_accuracy\n",
    "            \n",
    "        elif 'z' in fixed_intervals:\n",
    "                \n",
    "            x, y = symbols('x y')\n",
    "            expr = equation['x']*x + equation['y']*y - equation['d']\n",
    "            x_interval = None\n",
    "\n",
    "            c1 = corners[0][0]\n",
    "            c2 = corners[1][0]\n",
    "            c3 = corners[2][0]\n",
    "\n",
    "            if c1 < c2:\n",
    "                x_interval = range(c1, c2, car_sample_accuracy)\n",
    "            elif c1 > c2:\n",
    "                x_interval = range(c2, c1, car_sample_accuracy)\n",
    "            elif c1 < c3:\n",
    "                x_interval = range(c1, c3, car_sample_accuracy)\n",
    "            elif c1 > c3:\n",
    "                x_interval = range(c3, c1, car_sample_accuracy)\n",
    "\n",
    "\n",
    "            for z in fixed_intervals['z']:\n",
    "                for x_var in x_interval:\n",
    "                    x_expr = expr.subs(x, x_var)\n",
    "                    y = math.floor(solve(x_expr)[0])\n",
    "                    #print(y)\n",
    "                    sample.append((x_var, y, z))\n",
    "                    #print((x_var, y, z))\n",
    "                z += car_sample_accuracy\n",
    "        \n",
    "    return sample\n",
    "\n"
   ]
  },
  {
   "cell_type": "code",
   "execution_count": null,
   "metadata": {},
   "outputs": [],
   "source": [
    "def euclidean_3d_distance(x, y):\n",
    "    return math.floor(math.sqrt(pow((x[0] - y[0]), 2) + pow((x[1] - y[1]), 2) + pow((x[2] - y[2]), 2)))\n",
    "\n",
    "# Sample points from the cars surface\n",
    "# In the optimal situation we could sample points with accuracy factor 1. This would produce a huge number of points but the system cannot scale that well.\n",
    "\n",
    "for sensor in sensors:\n",
    "    variables[sensor[\"id\"]] = dict()\n",
    "    for pos_name in allowed_sensor_positions:\n",
    "        pos = allowed_sensor_positions[pos_name]\n",
    "        #print(sensor_types)\n",
    "        if sensor_types[sensor[\"type\"]] in pos[\"allowed_sensors\"]:\n",
    "            variables[sensor[\"id\"]][pos_name] = list()\n",
    "            srange = sensor[\"view\"][\"range\"]\n",
    "            corners = pos[\"corners\"]\n",
    "            equation = pos[\"equation\"]\n",
    "            fixed_intervals = pos[\"fixed_intervals\"]\n",
    "            \n",
    "            car_sample = sample_from_car_surface(corners, equation, fixed_intervals, car_sample_accuracy)\n",
    "            \n",
    "            #print(pos_name)\n",
    "            #print(car_sample)\n",
    "            #print()\n",
    "            \n",
    "            #scatter_plot(car_sample)\n",
    "        \n",
    "            for car_point in car_sample:\n",
    "                env_points = list()\n",
    "                for h_angle in range(0, 180, angle_accuracy):\n",
    "                    for v_angle in range(0, 90, angle_accuracy):\n",
    "                        \n",
    "                        rad_h_angle = math.radians(h_angle)\n",
    "                        rad_v_angle = math.radians(v_angle)\n",
    "                        \n",
    "                        #print(car_point)\n",
    "                        \n",
    "                        #print(math.floor(car_point[0] + srange*math.sin(rad_v_angle)))\n",
    "                        \n",
    "                        normal_vector = equation['normal_vector']\n",
    "                        spanning_vector_on_plane1 = equation['span1']\n",
    "                        spanning_vector_on_plane2 = equation['span2']\n",
    "                        \n",
    "                        point_in_environment = np.array([0,0,0])\n",
    "                        car_point_vector = np.array(car_point)\n",
    "                        \n",
    "                        # Move along plane\n",
    "                        point_in_environment += math.floor(srange*math.sin(rad_v_angle))*spanning_vector_on_plane1\n",
    "                        \n",
    "                        # Move along plane\n",
    "                        point_in_environment += math.floor(srange*math.sin(math.pi/2 - rad_v_angle))*spanning_vector_on_plane2\n",
    "                        \n",
    "                        # Move to orthonogal direction of plane\n",
    "                        point_in_environment += math.floor(srange*math.sin(rad_h_angle/2))*normal_vector\n",
    "                        \n",
    "                        #print(point_in_environment)\n",
    "                        \n",
    "                        #env_points.append(point_in_environment)\n",
    "                        #scatter_plot(env_points)\n",
    "            \n",
    "                        b_variable = (car_point, point_in_environment, sensor[\"id\"])\n",
    "                        variables[sensor[\"id\"]][pos_name].append(b_variable)\n",
    "            \n",
    "\n",
    "#print(len(variables))\n"
   ]
  },
  {
   "cell_type": "markdown",
   "metadata": {},
   "source": [
    "## Constructing quadratic unconstrained binary optimization model"
   ]
  },
  {
   "cell_type": "code",
   "execution_count": 5,
   "metadata": {},
   "outputs": [],
   "source": [
    "vartype = dimod.BINARY\n",
    "main_bqm = dimod.BinaryQuadraticModel({}, {}, 0.0, vartype)\n",
    "\n",
    "# Initializing variables\n",
    "# Variables are triples (x, y, i) where x and y are coordinate points in the space\n",
    "# and i is the index of the sensor.\n",
    "\n",
    "def create_variables(start_x, end_x, start_y, end_y, sensors):\n",
    "    variables = []\n",
    "    for x in range(start_x, end_x + 1):\n",
    "        for y in range(start_y, end_y + 1):\n",
    "            if (x,y) not in car_grid:\n",
    "                variables.append((x, y))\n",
    "    return variables\n",
    "\n",
    "env = create_variables(environment[\"v1\"][0], environment[\"v2\"][0], environment[\"v3\"][1], environment[\"v2\"][1], sensors)\n",
    "\n",
    "# print(len(env))\n",
    "\n",
    "# Next we collect the variables which are assigned to the car surface\n",
    "\n",
    "car_surface = []\n",
    "\n",
    "for pos in car[\"positions\"]:\n",
    "    if pos[\"x1\"] == pos[\"x2\"]:\n",
    "        x = pos[\"x1\"]\n",
    "        for y in range(pos[\"y1\"], pos[\"y2\"] + 1):\n",
    "            car_surface.append((x, y))\n",
    "    elif pos[\"y1\"] == pos[\"y2\"]:\n",
    "        y = pos[\"y1\"]\n",
    "        for x in range(pos[\"x1\"], pos[\"x2\"] + 1):\n",
    "            car_surface.append((x, y))\n",
    "    else:\n",
    "        raise ValueError('The allowed position on the car surface is not a line.')\n",
    "        \n",
    "# print(car_surface)"
   ]
  },
  {
   "cell_type": "markdown",
   "metadata": {},
   "source": [
    "The following functions enable us to append or initialize coefficients for the variables in the BQM. The distance function implements the ordinary Euclidean distance."
   ]
  },
  {
   "cell_type": "code",
   "execution_count": 6,
   "metadata": {},
   "outputs": [],
   "source": [
    "def append_linear_safe(variable, value, linear_dict):\n",
    "    if variable in linear_dict.keys():\n",
    "        linear_dict[variable] = linear_dict[variable] + value\n",
    "    else:\n",
    "        linear_dict[variable] = value\n",
    "\n",
    "def append_quadratic_safe(variable, value, quadratic_dict):\n",
    "    if variable in quadratic_dict.keys():\n",
    "        quadratic_dict[variable] = quadratic_dict[variable] + value\n",
    "    else:\n",
    "        quadratic_dict[variable] = value"
   ]
  },
  {
   "cell_type": "markdown",
   "metadata": {},
   "source": [
    "### Constraint 1: selecting sufficiently sensors to cover the environment"
   ]
  },
  {
   "cell_type": "markdown",
   "metadata": {},
   "source": [
    "Every binary quadratic function which is part of the model contains four parameters: linear terms, quadratic terms, offset (constant) and variable type. Variable type is always BINARY since we are using QUBO. If we would use Ising, we set variable type to be SPIN."
   ]
  },
  {
   "cell_type": "code",
   "execution_count": 7,
   "metadata": {},
   "outputs": [],
   "source": [
    "# Encoding constraint H1\n",
    "\n",
    "A1 = 1\n",
    "linear_h1 = {}\n",
    "quadratic_h1 = {}\n",
    "offset_h1 = 0.0\n",
    "\n",
    "for sensor in sensors:\n",
    "    for y in env:\n",
    "        \n",
    "        var_y = (y[0], y[1], y[2], sensor[\"id\"])\n",
    "        append_linear_safe(var_y, 1, linear_h1)\n",
    "        \n",
    "        for x in car_surface:\n",
    "            \n",
    "            var_x = (x[0], x[1], x[2], sensor[\"id\"])\n",
    "            \n",
    "            append_linear_safe(var_x, 1, linear_h1)\n",
    "            append_quadratic_safe((var_x, var_y), -2, quadratic_h1)\n",
    "            \n",
    "        for tupl in itertools.combinations(car_surface, 2):\n",
    "            \n",
    "            var_1 = (tupl[0][0], tupl[0][1], sensor[\"id\"])\n",
    "            var_2 = (tupl[1][0], tupl[1][1], sensor[\"id\"])\n",
    "            \n",
    "            append_quadratic_safe((var_1, var_2), 2, quadratic_h1)\n",
    "            \n",
    "bqm_h1 = dimod.BinaryQuadraticModel(linear_h1, quadratic_h1, offset_h1, vartype)\n",
    "bqm_h1.scale(A1)\n",
    "main_bqm.update(bqm_h1)\n",
    "            \n",
    "#for elem in main_bqm.linear:\n",
    "#        print(elem, main_bqm.linear[elem])\n",
    "\n",
    "#for elem in main_bqm.quadratic:\n",
    "#    print(elem, main_bqm.quadratic[elem])\n",
    "            "
   ]
  },
  {
   "cell_type": "markdown",
   "metadata": {},
   "source": [
    "### Constraint 2: optimizing overlap of sensor views"
   ]
  },
  {
   "cell_type": "code",
   "execution_count": 8,
   "metadata": {},
   "outputs": [],
   "source": [
    "# Encoding constraint H3\n",
    "\n",
    "A3 = 1\n",
    "linear_h3 = {}\n",
    "quadratic_h3 = {}\n",
    "offset_h3 = 1\n",
    "\n",
    "for sensor in sensors:\n",
    "    for x in car_surface:\n",
    "        for y in env:\n",
    "            constant = float(pow(distance(x, y) - sensor[\"view\"][\"range\"], 2)) + 1\n",
    "            \n",
    "            # print(constant)\n",
    "            #if constant != 1:\n",
    "            #    constant = pow(distance(x, y) + 1 - sensor[\"view\"][\"range\"] + 1, 2)\n",
    "            \n",
    "            var_x = (x[0], x[1], x[2], sensor[\"id\"])\n",
    "            var_y = (y[0], y[1], y[2], sensor[\"id\"])\n",
    "            \n",
    "            #append_linear_safe(var_x, pow(constant, 2), linear_h3)\n",
    "            #append_linear_safe(var_y, pow(constant, 2), linear_h3)\n",
    "            \n",
    "            append_quadratic_safe((var_x, var_y), float(pow(constant, 2)) - 2*constant, quadratic_h3)\n",
    "            \n",
    "bqm_h3 = dimod.BinaryQuadraticModel(linear_h3, quadratic_h3, offset_h3, vartype)\n",
    "bqm_h3.scale(A3)\n",
    "main_bqm.update(bqm_h3)\n",
    "    "
   ]
  },
  {
   "cell_type": "markdown",
   "metadata": {},
   "source": [
    "### Constraint 3: minimizing total price"
   ]
  },
  {
   "cell_type": "code",
   "execution_count": 9,
   "metadata": {},
   "outputs": [],
   "source": [
    "# Encoding constraint H4\n",
    "\n",
    "def number_of_points_covered(sensor):\n",
    "    # Following code calculates volume of view of sensor\n",
    "    side1 = 2*sensor[\"view\"][\"range\"]*float(math.tan(math.pi * float(sensor[\"view\"][\"angle\"][\"horizontal\"] / 360)))\n",
    "    side2 = 2*sensor[\"view\"][\"range\"]*float(math.tan(math.pi * float(sensor[\"view\"][\"angle\"][\"vertical\"] / 360)))\n",
    "    return (1/3)*sensor[\"view\"][\"range\"]*side1*side2\n",
    "\n",
    "total_points = len(env)\n",
    "\n",
    "A4 = 1\n",
    "linear_h4 = {}\n",
    "quadratic_h4 = {}\n",
    "offset_h4 = float(pow(total_points, 2))\n",
    "\n",
    "for sensor in sensors:\n",
    "    for x in car_surface:\n",
    "        for y in env:\n",
    "            covered_area = number_of_points_covered(sensor)\n",
    "            \n",
    "            quadratic_constant = float(pow(covered_area, 2)) - 2*covered_area*total_points\n",
    "            \n",
    "            var_x = (x[0], x[1], x[2], sensor[\"id\"])\n",
    "            var_y = (y[0], y[1], y[2], sensor[\"id\"])\n",
    "            \n",
    "            append_quadratic_safe((var_x, var_y), quadratic_constant, quadratic_h4)\n",
    "            \n",
    "bqm_h4 = dimod.BinaryQuadraticModel(linear_h4, quadratic_h4, offset_h4, vartype)\n",
    "bqm_h4.scale(A4)\n",
    "main_bqm.update(bqm_h4)\n",
    "            "
   ]
  },
  {
   "cell_type": "markdown",
   "metadata": {},
   "source": [
    "### Constraint 4: optimizing overlap of sensor views"
   ]
  },
  {
   "cell_type": "code",
   "execution_count": 10,
   "metadata": {},
   "outputs": [],
   "source": [
    "# Encoding constraint H5\n",
    "\n",
    "for p in env:\n",
    "    cr = critical_value(p[0], p[1])\n",
    "    A5 = 1\n",
    "    linear_h5 = {}\n",
    "    quadratic_h5 = {}\n",
    "    offset_h5 = float(pow(cr, 2))\n",
    "    \n",
    "    for sensor in sensors:\n",
    "        for x in car_surface:\n",
    "            for y in env:\n",
    "                covers = sensor_covers(x, y, p, sensor)\n",
    "                \n",
    "                var_x = (x[0], x[1], x[2], sensor[\"id\"])\n",
    "                var_y = (y[0], y[1], y[2], sensor[\"id\"])\n",
    "            \n",
    "                append_quadratic_safe((var_x, var_y), float(pow(covers, 2) - 2*cr*covers), quadratic_h5)\n",
    "                \n",
    "    bqm_h5 = dimod.BinaryQuadraticModel(linear_h5, quadratic_h5, offset_h5, vartype)\n",
    "    bqm_h5.scale(A5)\n",
    "    main_bqm.update(bqm_h5)"
   ]
  },
  {
   "cell_type": "markdown",
   "metadata": {},
   "source": [
    "### Constraint 5: minimizing total price"
   ]
  },
  {
   "cell_type": "code",
   "execution_count": 11,
   "metadata": {},
   "outputs": [],
   "source": [
    "# Encoding constraint H6\n",
    "\n",
    "A6 = 1\n",
    "linear_h6 = {}\n",
    "quadratic_h6 = {}\n",
    "offset_h6 = 0.0\n",
    "\n",
    "for sensor in sensors:\n",
    "    for x in car_surface:\n",
    "        for y in env:\n",
    "            var_x = (x[0], x[1], x[2], sensor[\"id\"])\n",
    "            var_y = (y[0], y[1], y[2], sensor[\"id\"])\n",
    "            \n",
    "            append_quadratic_safe((var_x, var_y), sensor[\"price\"], quadratic_h6)\n",
    "\n",
    "bqm_h6 = dimod.BinaryQuadraticModel(linear_h6, quadratic_h6, offset_h6, vartype)\n",
    "bqm_h6.scale(A6)\n",
    "main_bqm.update(bqm_h6)\n",
    "\n",
    "#for elem in main_bqm.linear:\n",
    "#        print(elem, main_bqm.linear[elem])\n",
    "\n",
    "#for elem in main_bqm.quadratic:\n",
    "#    if main_bqm.quadratic[elem] != 16:\n",
    "#        print(elem, main_bqm.quadratic[elem])"
   ]
  },
  {
   "cell_type": "markdown",
   "metadata": {},
   "source": [
    "### Solve QUBO"
   ]
  },
  {
   "cell_type": "markdown",
   "metadata": {},
   "source": [
    "Unfortunately, LeapHybridSampler is not available in Amazon Bracket. That is why this code will not work in Bracket. On the other hand, we tried run the code using BracketDwaveSampler but the problem cannot be mapped to the circuits."
   ]
  },
  {
   "cell_type": "code",
   "execution_count": 12,
   "metadata": {},
   "outputs": [
    {
     "name": "stdout",
     "output_type": "stream",
     "text": [
      "  (-8, -8, 1) (-8, -8, 2) (-8, -8, 3) ... (8, 8, 5)    energy num_oc.\n",
      "0           0           0           0 ...         0 -0.009236       1\n",
      "['BINARY', 1 rows, 1 samples, 1425 variables]\n",
      "\n",
      "Possible sensor positions in the space (x-coordinate, y-coordinate, sensor id):\n",
      "(-8, -8, 5) 1\n",
      "(-8, -7, 5) 1\n",
      "(-8, -6, 5) 1\n",
      "(-8, -5, 5) 1\n",
      "(-8, -4, 5) 1\n",
      "(-8, -3, 5) 1\n",
      "(-8, -2, 5) 1\n",
      "(-8, 4, 5) 1\n",
      "(-8, 7, 5) 1\n",
      "(-8, 8, 5) 1\n",
      "(-7, -8, 5) 1\n",
      "(-7, -7, 5) 1\n",
      "(-7, -6, 5) 1\n",
      "(-7, -5, 5) 1\n",
      "(-7, -4, 5) 1\n",
      "(-7, -3, 5) 1\n",
      "(0, 0, 5) 1\n",
      "(0, 1, 5) 1\n",
      "(0, 2, 5) 1\n",
      "(0, 3, 5) 1\n",
      "(7, -8, 5) 1\n",
      "(7, -7, 5) 1\n",
      "(7, -6, 5) 1\n",
      "(7, -5, 5) 1\n",
      "(7, -4, 5) 1\n",
      "(8, -8, 5) 1\n",
      "(8, -7, 5) 1\n",
      "(8, -6, 5) 1\n",
      "(8, -5, 5) 1\n",
      "(8, -4, 5) 1\n",
      "30\n"
     ]
    }
   ],
   "source": [
    "main_bqm.normalize()\n",
    "\n",
    "sampler = LeapHybridSampler()\n",
    "sampleset = sampler.sample(main_bqm)\n",
    "sample = sampleset.first.sample\n",
    "print(sampleset)\n",
    "print()\n",
    "# energy = sampleset.first.energy\n",
    "print(\"Possible sensor positions in the space (x-coordinate, y-coordinate, sensor id):\")\n",
    "i = 0\n",
    "for varname, value in sample.items():\n",
    "    if value == 1:\n",
    "        i+=1\n",
    "        print(varname, value)\n",
    "print(i)"
   ]
  },
  {
   "cell_type": "code",
   "execution_count": null,
   "metadata": {},
   "outputs": [],
   "source": []
  }
 ],
 "metadata": {
  "kernelspec": {
   "display_name": "Python 3",
   "language": "python",
   "name": "python3"
  },
  "language_info": {
   "codemirror_mode": {
    "name": "ipython",
    "version": 3
   },
   "file_extension": ".py",
   "mimetype": "text/x-python",
   "name": "python",
   "nbconvert_exporter": "python",
   "pygments_lexer": "ipython3",
   "version": "3.8.3"
  }
 },
 "nbformat": 4,
 "nbformat_minor": 4
}
