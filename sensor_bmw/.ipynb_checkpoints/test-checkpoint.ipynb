{
 "cells": [
  {
   "cell_type": "code",
   "execution_count": 14,
   "metadata": {},
   "outputs": [
    {
     "name": "stdout",
     "output_type": "stream",
     "text": [
      " x +  y +  (-2)xy +  z +  (-2)xz +  k +  (-2)xk +  2yz +  2yk +  2zk \n"
     ]
    }
   ],
   "source": [
    "import itertools\n",
    "\n",
    "result = \"\"\n",
    "for x in [\"x\"]:\n",
    "    result = result + \" \" + x + \" + \"\n",
    "    for y in [\"y\", \"z\", \"k\"]:\n",
    "        result = result + \" \" + y + \" + \"\n",
    "        result = result + \" (-2)\" + x + y + \" + \"\n",
    "\n",
    "    for tupl in itertools.combinations([\"y\", \"z\", \"k\"], 2):\n",
    "        result = result + \" 2\" + tupl[0] + tupl[1] + \" + \"\n",
    "print(result[0:-2])"
   ]
  },
  {
   "cell_type": "code",
   "execution_count": null,
   "metadata": {},
   "outputs": [],
   "source": []
  }
 ],
 "metadata": {
  "kernelspec": {
   "display_name": "Python 3",
   "language": "python",
   "name": "python3"
  },
  "language_info": {
   "codemirror_mode": {
    "name": "ipython",
    "version": 3
   },
   "file_extension": ".py",
   "mimetype": "text/x-python",
   "name": "python",
   "nbconvert_exporter": "python",
   "pygments_lexer": "ipython3",
   "version": "3.8.3"
  }
 },
 "nbformat": 4,
 "nbformat_minor": 4
}
